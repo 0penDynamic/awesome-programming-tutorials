{
 "cells": [
  {
   "cell_type": "markdown",
   "metadata": {},
   "source": [
    "# PyTorch Geometric tutorials"
   ]
  },
  {
   "cell_type": "markdown",
   "metadata": {},
   "source": [
    "## Data handling of Graphs\n",
    "PyG 中使用Data实例来存储一个图，以下实例介绍图的初始化及其包含的属性！"
   ]
  },
  {
   "cell_type": "code",
   "execution_count": 1,
   "metadata": {},
   "outputs": [],
   "source": [
    "import torch\n",
    "from torch_geometric.data import Data\n",
    "\n",
    "# node index can start without 0\n",
    "edge_index = torch.tensor([[0, 1, 1, 2],\n",
    "                           [1, 0, 2, 1]], dtype=torch.long)\n",
    "x = torch.tensor([[-1], [0], [1]], dtype=torch.float)\n",
    "\n",
    "data = Data(x=x, edge_index=edge_index)"
   ]
  },
  {
   "cell_type": "markdown",
   "metadata": {},
   "source": [
    "注意：如果边不是以COO形式给出的而是以节点对的形式，需要先转置`t()`再利用函数`contiguous()`，例如以上示例："
   ]
  },
  {
   "cell_type": "code",
   "execution_count": 2,
   "metadata": {},
   "outputs": [
    {
     "data": {
      "text/plain": [
       "tensor([[0, 1, 1, 2],\n",
       "        [1, 0, 2, 1]])"
      ]
     },
     "execution_count": 2,
     "metadata": {},
     "output_type": "execute_result"
    }
   ],
   "source": [
    "edge_index = torch.tensor([[0,1], [1,0], [1,2], [2,1]], dtype=torch.long)\n",
    "edge_index.t().contiguous()"
   ]
  },
  {
   "cell_type": "code",
   "execution_count": 3,
   "metadata": {},
   "outputs": [
    {
     "data": {
      "text/plain": [
       "Data(edge_index=[2, 4], x=[3, 1])"
      ]
     },
     "execution_count": 3,
     "metadata": {},
     "output_type": "execute_result"
    }
   ],
   "source": [
    "data # 2, 4"
   ]
  },
  {
   "cell_type": "code",
   "execution_count": 4,
   "metadata": {},
   "outputs": [
    {
     "data": {
      "text/plain": [
       "tensor([[-1.],\n",
       "        [ 0.],\n",
       "        [ 1.]])"
      ]
     },
     "execution_count": 4,
     "metadata": {},
     "output_type": "execute_result"
    }
   ],
   "source": [
    "data.x"
   ]
  },
  {
   "cell_type": "code",
   "execution_count": 5,
   "metadata": {},
   "outputs": [],
   "source": [
    "data.y"
   ]
  },
  {
   "cell_type": "code",
   "execution_count": 6,
   "metadata": {},
   "outputs": [
    {
     "data": {
      "text/plain": [
       "tensor([[0, 1, 1, 2],\n",
       "        [1, 0, 2, 1]])"
      ]
     },
     "execution_count": 6,
     "metadata": {},
     "output_type": "execute_result"
    }
   ],
   "source": [
    "data.edge_index"
   ]
  },
  {
   "cell_type": "code",
   "execution_count": 7,
   "metadata": {},
   "outputs": [],
   "source": [
    "data.edge_attr"
   ]
  },
  {
   "cell_type": "code",
   "execution_count": 8,
   "metadata": {},
   "outputs": [],
   "source": [
    "data.pos"
   ]
  },
  {
   "cell_type": "code",
   "execution_count": 9,
   "metadata": {},
   "outputs": [
    {
     "name": "stdout",
     "output_type": "stream",
     "text": [
      "edge_index tensor([[0, 1, 1, 2],\n",
      "        [1, 0, 2, 1]])\n",
      "x tensor([[-1.],\n",
      "        [ 0.],\n",
      "        [ 1.]])\n"
     ]
    }
   ],
   "source": [
    "for key, item in data:\n",
    "    print(key, item)"
   ]
  },
  {
   "cell_type": "code",
   "execution_count": 10,
   "metadata": {},
   "outputs": [
    {
     "data": {
      "text/plain": [
       "3"
      ]
     },
     "execution_count": 10,
     "metadata": {},
     "output_type": "execute_result"
    }
   ],
   "source": [
    "data.num_nodes"
   ]
  },
  {
   "cell_type": "code",
   "execution_count": 11,
   "metadata": {},
   "outputs": [
    {
     "data": {
      "text/plain": [
       "4"
      ]
     },
     "execution_count": 11,
     "metadata": {},
     "output_type": "execute_result"
    }
   ],
   "source": [
    "data.num_edges"
   ]
  },
  {
   "cell_type": "code",
   "execution_count": 12,
   "metadata": {},
   "outputs": [
    {
     "data": {
      "text/plain": [
       "1"
      ]
     },
     "execution_count": 12,
     "metadata": {},
     "output_type": "execute_result"
    }
   ],
   "source": [
    "data.num_node_features"
   ]
  },
  {
   "cell_type": "code",
   "execution_count": 13,
   "metadata": {},
   "outputs": [
    {
     "data": {
      "text/plain": [
       "False"
      ]
     },
     "execution_count": 13,
     "metadata": {},
     "output_type": "execute_result"
    }
   ],
   "source": [
    "data.contains_isolated_nodes()"
   ]
  },
  {
   "cell_type": "code",
   "execution_count": 14,
   "metadata": {},
   "outputs": [
    {
     "data": {
      "text/plain": [
       "False"
      ]
     },
     "execution_count": 14,
     "metadata": {},
     "output_type": "execute_result"
    }
   ],
   "source": [
    "data.contains_self_loops()"
   ]
  },
  {
   "cell_type": "code",
   "execution_count": 15,
   "metadata": {},
   "outputs": [
    {
     "data": {
      "text/plain": [
       "False"
      ]
     },
     "execution_count": 15,
     "metadata": {},
     "output_type": "execute_result"
    }
   ],
   "source": [
    "data.is_directed()"
   ]
  },
  {
   "cell_type": "code",
   "execution_count": 16,
   "metadata": {},
   "outputs": [],
   "source": [
    "# transfer data to GPU\n",
    "if torch.cuda.is_available():\n",
    "    data = data.to(torch.device('cuda'))"
   ]
  },
  {
   "cell_type": "markdown",
   "metadata": {},
   "source": [
    "## Common Benchmark Datasets\n",
    "- Planetoid datasets\n",
    "    - Cora\n",
    "    - Citeseer\n",
    "    - Pubmed\n",
    "- Graph classification datasets.\n",
    "- QM7 and QM9 datasets.\n",
    "- 3D mesh/point"
   ]
  },
  {
   "cell_type": "markdown",
   "metadata": {},
   "source": [
    "### TUDataset"
   ]
  },
  {
   "cell_type": "code",
   "execution_count": 17,
   "metadata": {},
   "outputs": [],
   "source": [
    "from torch_geometric.datasets import TUDataset\n",
    "\n",
    "dataset = TUDataset(root='./data', name='ENZYMES')"
   ]
  },
  {
   "cell_type": "code",
   "execution_count": 18,
   "metadata": {},
   "outputs": [
    {
     "data": {
      "text/plain": [
       "600"
      ]
     },
     "execution_count": 18,
     "metadata": {},
     "output_type": "execute_result"
    }
   ],
   "source": [
    "len(dataset) # 600 graphs for graph classification."
   ]
  },
  {
   "cell_type": "code",
   "execution_count": 19,
   "metadata": {},
   "outputs": [
    {
     "data": {
      "text/plain": [
       "6"
      ]
     },
     "execution_count": 19,
     "metadata": {},
     "output_type": "execute_result"
    }
   ],
   "source": [
    "dataset.num_classes # 6 classes"
   ]
  },
  {
   "cell_type": "code",
   "execution_count": 20,
   "metadata": {},
   "outputs": [
    {
     "data": {
      "text/plain": [
       "3"
      ]
     },
     "execution_count": 20,
     "metadata": {},
     "output_type": "execute_result"
    }
   ],
   "source": [
    "dataset.num_node_features"
   ]
  },
  {
   "cell_type": "code",
   "execution_count": 21,
   "metadata": {},
   "outputs": [
    {
     "data": {
      "text/plain": [
       "0"
      ]
     },
     "execution_count": 21,
     "metadata": {},
     "output_type": "execute_result"
    }
   ],
   "source": [
    "dataset.num_edge_attributes"
   ]
  },
  {
   "cell_type": "code",
   "execution_count": 22,
   "metadata": {},
   "outputs": [
    {
     "data": {
      "text/plain": [
       "Data(edge_index=[2, 168], x=[37, 3], y=[1])"
      ]
     },
     "execution_count": 22,
     "metadata": {},
     "output_type": "execute_result"
    }
   ],
   "source": [
    "data = dataset[0] # 37 nodes with 3 features,168/2 edges and the graph is assigned to clase 1.\n",
    "data"
   ]
  },
  {
   "cell_type": "code",
   "execution_count": 23,
   "metadata": {},
   "outputs": [
    {
     "data": {
      "text/plain": [
       "False"
      ]
     },
     "execution_count": 23,
     "metadata": {},
     "output_type": "execute_result"
    }
   ],
   "source": [
    "data.is_directed()"
   ]
  },
  {
   "cell_type": "markdown",
   "metadata": {},
   "source": [
    "Split the dataset:90/10 train/test"
   ]
  },
  {
   "cell_type": "code",
   "execution_count": 24,
   "metadata": {},
   "outputs": [
    {
     "data": {
      "text/plain": [
       "ENZYMES(540)"
      ]
     },
     "execution_count": 24,
     "metadata": {},
     "output_type": "execute_result"
    }
   ],
   "source": [
    "train_dataset = dataset[:540]\n",
    "test_dataset = dataset[540:]\n",
    "train_dataset"
   ]
  },
  {
   "cell_type": "markdown",
   "metadata": {},
   "source": [
    "Dataset permutation"
   ]
  },
  {
   "cell_type": "code",
   "execution_count": 25,
   "metadata": {},
   "outputs": [
    {
     "data": {
      "text/plain": [
       "Data(edge_index=[2, 104], x=[30, 3], y=[1])"
      ]
     },
     "execution_count": 25,
     "metadata": {},
     "output_type": "execute_result"
    }
   ],
   "source": [
    "dataset = dataset.shuffle() # dataset = dataset[torch.randperm(len(dataset))]\n",
    "dataset[0]"
   ]
  },
  {
   "cell_type": "markdown",
   "metadata": {},
   "source": [
    "### Cora dataset"
   ]
  },
  {
   "cell_type": "code",
   "execution_count": 26,
   "metadata": {},
   "outputs": [],
   "source": [
    "from torch_geometric.datasets import Planetoid \n",
    "dataset = Planetoid(root='./data', name='Cora')"
   ]
  },
  {
   "cell_type": "code",
   "execution_count": 27,
   "metadata": {},
   "outputs": [
    {
     "data": {
      "text/plain": [
       "1"
      ]
     },
     "execution_count": 27,
     "metadata": {},
     "output_type": "execute_result"
    }
   ],
   "source": [
    "len(dataset)"
   ]
  },
  {
   "cell_type": "code",
   "execution_count": 28,
   "metadata": {},
   "outputs": [
    {
     "data": {
      "text/plain": [
       "Data(edge_index=[2, 10556], test_mask=[2708], train_mask=[2708], val_mask=[2708], x=[2708, 1433], y=[2708])"
      ]
     },
     "execution_count": 28,
     "metadata": {},
     "output_type": "execute_result"
    }
   ],
   "source": [
    "data = dataset[0]\n",
    "data"
   ]
  },
  {
   "cell_type": "code",
   "execution_count": 29,
   "metadata": {},
   "outputs": [
    {
     "data": {
      "text/plain": [
       "True"
      ]
     },
     "execution_count": 29,
     "metadata": {},
     "output_type": "execute_result"
    }
   ],
   "source": [
    "data.is_undirected()"
   ]
  },
  {
   "cell_type": "code",
   "execution_count": 30,
   "metadata": {},
   "outputs": [
    {
     "data": {
      "text/plain": [
       "tensor([ True,  True,  True,  ..., False, False, False])"
      ]
     },
     "execution_count": 30,
     "metadata": {},
     "output_type": "execute_result"
    }
   ],
   "source": [
    "data.train_mask"
   ]
  },
  {
   "cell_type": "code",
   "execution_count": 31,
   "metadata": {},
   "outputs": [
    {
     "data": {
      "text/plain": [
       "140"
      ]
     },
     "execution_count": 31,
     "metadata": {},
     "output_type": "execute_result"
    }
   ],
   "source": [
    "data.train_mask.sum().item()"
   ]
  },
  {
   "cell_type": "code",
   "execution_count": 32,
   "metadata": {},
   "outputs": [
    {
     "data": {
      "text/plain": [
       "500"
      ]
     },
     "execution_count": 32,
     "metadata": {},
     "output_type": "execute_result"
    }
   ],
   "source": [
    "data.val_mask.sum().item()"
   ]
  },
  {
   "cell_type": "code",
   "execution_count": 33,
   "metadata": {},
   "outputs": [
    {
     "data": {
      "text/plain": [
       "1000"
      ]
     },
     "execution_count": 33,
     "metadata": {},
     "output_type": "execute_result"
    }
   ],
   "source": [
    "data.test_mask.sum().item()"
   ]
  },
  {
   "cell_type": "code",
   "execution_count": 34,
   "metadata": {},
   "outputs": [
    {
     "data": {
      "text/plain": [
       "tensor([3, 4, 4,  ..., 3, 3, 3])"
      ]
     },
     "execution_count": 34,
     "metadata": {},
     "output_type": "execute_result"
    }
   ],
   "source": [
    "data.y"
   ]
  },
  {
   "cell_type": "markdown",
   "metadata": {},
   "source": [
    "- `train_mask` 训练的节点\n",
    "- `val_mask` 验证节点\n",
    "- `test_mask` 测试节点"
   ]
  },
  {
   "cell_type": "markdown",
   "metadata": {},
   "source": [
    "## Mini-batchs"
   ]
  },
  {
   "cell_type": "markdown",
   "metadata": {},
   "source": [
    "神经网络通常会按照`batch`方式进行训练，PyG 通过构建稀疏化的分块对角阵实现`mini-batch`的并行化，构建方式按照每一个Data实例的`edge_index`构建一个图的邻接矩阵，然后将所有节点的特征向量按行拼接。使得不同数量的顶点数和边数的图可以一起训练。可以使用PyG内部的 `torch_geometric.data.DataLoader`进行图拼接的过程！\n",
    "$$\\mathbf{A}=\\left[\\begin{array}{ccc}\n",
    "\\mathbf{A}_{1} & & \\\\\n",
    "& \\ddots & \\\\\n",
    "& & \\mathbf{A}_{n}\n",
    "\\end{array}\\right], \\quad \\mathbf{X}=\\left[\\begin{array}{c}\n",
    "\\mathbf{X}_{1} \\\\\n",
    "\\vdots \\\\\n",
    "\\mathbf{X}_{n}\n",
    "\\end{array}\\right], \\quad \\mathbf{Y}=\\left[\\begin{array}{c}\n",
    "\\mathbf{Y}_{1} \\\\\n",
    "\\vdots \\\\\n",
    "\\mathbf{Y}_{n}\n",
    "\\end{array}\\right]$$"
   ]
  },
  {
   "cell_type": "code",
   "execution_count": 35,
   "metadata": {},
   "outputs": [
    {
     "data": {
      "text/plain": [
       "19"
      ]
     },
     "execution_count": 35,
     "metadata": {},
     "output_type": "execute_result"
    }
   ],
   "source": [
    "from torch_geometric.datasets import TUDataset\n",
    "from torch_geometric.data import DataLoader\n",
    "\n",
    "dataset = TUDataset(root='./data', name='ENZYMES', use_node_attr=True)\n",
    "loader = DataLoader(dataset, batch_size=32, shuffle=True)\n",
    "len(loader)"
   ]
  },
  {
   "cell_type": "code",
   "execution_count": 36,
   "metadata": {},
   "outputs": [
    {
     "name": "stdout",
     "output_type": "stream",
     "text": [
      "Batch(batch=[1034], edge_index=[2, 3968], x=[1034, 21], y=[32])\n",
      "Batch(batch=[1057], edge_index=[2, 4196], x=[1057, 21], y=[32])\n",
      "Batch(batch=[1034], edge_index=[2, 4078], x=[1034, 21], y=[32])\n",
      "Batch(batch=[1167], edge_index=[2, 4186], x=[1167, 21], y=[32])\n",
      "Batch(batch=[1096], edge_index=[2, 4132], x=[1096, 21], y=[32])\n",
      "Batch(batch=[1176], edge_index=[2, 4286], x=[1176, 21], y=[32])\n",
      "Batch(batch=[1070], edge_index=[2, 4226], x=[1070, 21], y=[32])\n",
      "Batch(batch=[1077], edge_index=[2, 4114], x=[1077, 21], y=[32])\n",
      "Batch(batch=[1085], edge_index=[2, 4276], x=[1085, 21], y=[32])\n",
      "Batch(batch=[949], edge_index=[2, 3546], x=[949, 21], y=[32])\n",
      "Batch(batch=[1049], edge_index=[2, 3944], x=[1049, 21], y=[32])\n",
      "Batch(batch=[940], edge_index=[2, 3690], x=[940, 21], y=[32])\n",
      "Batch(batch=[1298], edge_index=[2, 4444], x=[1298, 21], y=[32])\n",
      "Batch(batch=[935], edge_index=[2, 3650], x=[935, 21], y=[32])\n",
      "Batch(batch=[982], edge_index=[2, 3866], x=[982, 21], y=[32])\n",
      "Batch(batch=[1022], edge_index=[2, 3908], x=[1022, 21], y=[32])\n",
      "Batch(batch=[916], edge_index=[2, 3514], x=[916, 21], y=[32])\n",
      "Batch(batch=[982], edge_index=[2, 3840], x=[982, 21], y=[32])\n",
      "Batch(batch=[711], edge_index=[2, 2700], x=[711, 21], y=[24])\n"
     ]
    }
   ],
   "source": [
    "for batch in loader:\n",
    "    print(batch)"
   ]
  },
  {
   "cell_type": "markdown",
   "metadata": {},
   "source": [
    "`batch`大小为32个图，但是每一个图的规模是不一样的，上例中第一个batch内的32个图共1005节点，含有3948条边。\n",
    "\n",
    "`torch_geometric.data.Batch`继承`torch_geometric.data.Data`，并且添加了一个额外的属性`batch`。`batch`是一个列向量，代表了每一个节点对应到哪一个图。\n",
    "$$\\text { batch }=\\left[\\begin{array}{cccccccc}\n",
    "0 & \\cdots & 0 & 1 & \\cdots & n-2 & n-1 & \\cdots & n-1\n",
    "\\end{array}\\right]^{\\top}$$\n",
    "\n",
    "可以根据`Batch`对每个图中的节点特征进行平均化，其中使用到 `scatter` 库，以每一个图为单位，将各个图中的所有节点的特征向量计算了一个平均值，所以维度为`[32, 21]`。"
   ]
  },
  {
   "cell_type": "code",
   "execution_count": 37,
   "metadata": {},
   "outputs": [
    {
     "name": "stdout",
     "output_type": "stream",
     "text": [
      "Batch(batch=[971], edge_index=[2, 3762], x=[971, 21], y=[32])\n",
      "32\n",
      "torch.Size([32, 21])\n",
      "Batch(batch=[1214], edge_index=[2, 4626], x=[1214, 21], y=[32])\n",
      "32\n",
      "torch.Size([32, 21])\n",
      "Batch(batch=[1102], edge_index=[2, 4184], x=[1102, 21], y=[32])\n",
      "32\n",
      "torch.Size([32, 21])\n",
      "Batch(batch=[1076], edge_index=[2, 3630], x=[1076, 21], y=[32])\n",
      "32\n",
      "torch.Size([32, 21])\n",
      "Batch(batch=[1044], edge_index=[2, 3978], x=[1044, 21], y=[32])\n",
      "32\n",
      "torch.Size([32, 21])\n",
      "Batch(batch=[1152], edge_index=[2, 4216], x=[1152, 21], y=[32])\n",
      "32\n",
      "torch.Size([32, 21])\n",
      "Batch(batch=[1053], edge_index=[2, 4152], x=[1053, 21], y=[32])\n",
      "32\n",
      "torch.Size([32, 21])\n",
      "Batch(batch=[1018], edge_index=[2, 3876], x=[1018, 21], y=[32])\n",
      "32\n",
      "torch.Size([32, 21])\n",
      "Batch(batch=[1076], edge_index=[2, 4082], x=[1076, 21], y=[32])\n",
      "32\n",
      "torch.Size([32, 21])\n",
      "Batch(batch=[941], edge_index=[2, 3586], x=[941, 21], y=[32])\n",
      "32\n",
      "torch.Size([32, 21])\n",
      "Batch(batch=[1119], edge_index=[2, 4292], x=[1119, 21], y=[32])\n",
      "32\n",
      "torch.Size([32, 21])\n",
      "Batch(batch=[1026], edge_index=[2, 3818], x=[1026, 21], y=[32])\n",
      "32\n",
      "torch.Size([32, 21])\n",
      "Batch(batch=[934], edge_index=[2, 3774], x=[934, 21], y=[32])\n",
      "32\n",
      "torch.Size([32, 21])\n",
      "Batch(batch=[1036], edge_index=[2, 3882], x=[1036, 21], y=[32])\n",
      "32\n",
      "torch.Size([32, 21])\n",
      "Batch(batch=[983], edge_index=[2, 3734], x=[983, 21], y=[32])\n",
      "32\n",
      "torch.Size([32, 21])\n",
      "Batch(batch=[1003], edge_index=[2, 3918], x=[1003, 21], y=[32])\n",
      "32\n",
      "torch.Size([32, 21])\n",
      "Batch(batch=[1140], edge_index=[2, 4506], x=[1140, 21], y=[32])\n",
      "32\n",
      "torch.Size([32, 21])\n",
      "Batch(batch=[924], edge_index=[2, 3572], x=[924, 21], y=[32])\n",
      "32\n",
      "torch.Size([32, 21])\n",
      "Batch(batch=[768], edge_index=[2, 2976], x=[768, 21], y=[24])\n",
      "24\n",
      "torch.Size([24, 21])\n"
     ]
    }
   ],
   "source": [
    "from torch_scatter import scatter_mean\n",
    "from torch_geometric.datasets import TUDataset\n",
    "from torch_geometric.data import DataLoader\n",
    "\n",
    "dataset = TUDataset(root='./data', name='ENZYMES', use_node_attr=True)\n",
    "loader = DataLoader(dataset, batch_size=32, shuffle=True)\n",
    "for data in loader:\n",
    "    print(data)\n",
    "    print(data.num_graphs)\n",
    "    x = scatter_mean(data.x, data.batch, dim=0)\n",
    "    print(x.size())"
   ]
  },
  {
   "cell_type": "markdown",
   "metadata": {},
   "source": [
    "## Data Transforms\n",
    "PyG 中的数据变换与 `torchvision` 中图片变换与扩充类似。变换操作可以是使用`torch_geometric.transform.Compose`进行图拼接！\n",
    "\n",
    "下面以ShapeNet（17000 3D点云，16种形状） 数据集为例，下载数据时可以根据 kNN 对点云进行图构造："
   ]
  },
  {
   "cell_type": "code",
   "execution_count": 38,
   "metadata": {},
   "outputs": [
    {
     "data": {
      "text/plain": [
       "ShapeNet(2349, categories=['Airplane'])"
      ]
     },
     "execution_count": 38,
     "metadata": {},
     "output_type": "execute_result"
    }
   ],
   "source": [
    "from torch_geometric.datasets import ShapeNet\n",
    "dataset = ShapeNet(root='./data/ShapeNet', categories=['Airplane'])\n",
    "dataset"
   ]
  },
  {
   "cell_type": "code",
   "execution_count": 39,
   "metadata": {},
   "outputs": [
    {
     "data": {
      "text/plain": [
       "Data(category=[1], pos=[2518, 3], x=[2518, 3], y=[2518])"
      ]
     },
     "execution_count": 39,
     "metadata": {},
     "output_type": "execute_result"
    }
   ],
   "source": [
    "dataset[0]"
   ]
  },
  {
   "cell_type": "markdown",
   "metadata": {},
   "source": [
    "可以根据KNN构造点云图，下载时已预处理下次使用时不要在进行图构造！"
   ]
  },
  {
   "cell_type": "code",
   "execution_count": 40,
   "metadata": {},
   "outputs": [
    {
     "name": "stderr",
     "output_type": "stream",
     "text": [
      "D:\\DevTools\\Miniconda3\\lib\\site-packages\\torch_geometric\\data\\dataset.py:151: UserWarning: The `pre_transform` argument differs from the one used in the pre-processed version of this dataset. If you really want to make use of another pre-processing technique, make sure to delete `data\\ShapeNet\\processed` first.\n",
      "  'sure to delete `{}` first.'.format(self.processed_dir))\n"
     ]
    },
    {
     "data": {
      "text/plain": [
       "Data(category=[1], pos=[2518, 3], x=[2518, 3], y=[2518])"
      ]
     },
     "execution_count": 40,
     "metadata": {},
     "output_type": "execute_result"
    }
   ],
   "source": [
    "import torch_geometric.transforms as T\n",
    "dataset = ShapeNet(root='./data/ShapeNet', categories=['Airplane'],\n",
    "                    pre_transform=T.KNNGraph(k=6),\n",
    "                    transform=T.RandomTranslate(0.01))\n",
    "dataset[0]"
   ]
  },
  {
   "cell_type": "markdown",
   "metadata": {},
   "source": [
    "## Learning Methods on Graphs\n",
    "\n",
    "在学习PyG的数据处理与图变换方法后，接下来就依赖 PyG 实现 GNN了！"
   ]
  },
  {
   "cell_type": "code",
   "execution_count": 41,
   "metadata": {},
   "outputs": [
    {
     "data": {
      "text/plain": [
       "Cora()"
      ]
     },
     "execution_count": 41,
     "metadata": {},
     "output_type": "execute_result"
    }
   ],
   "source": [
    "# 加载数据集\n",
    "from torch_geometric.datasets import Planetoid\n",
    "dataset = Planetoid(root='./data', name='Cora')\n",
    "dataset"
   ]
  },
  {
   "cell_type": "code",
   "execution_count": 42,
   "metadata": {},
   "outputs": [],
   "source": [
    "# 2-layers GCN\n",
    "import torch\n",
    "import torch.nn.functional as F\n",
    "from torch_geometric.nn import GCNConv\n",
    "\n",
    "class Net(torch.nn.Module):\n",
    "    def __init__(self):\n",
    "        super(Net, self).__init__()\n",
    "        self.conv1 = GCNConv(dataset.num_node_features, 16)\n",
    "        self.conv2 = GCNConv(16, dataset.num_classes)\n",
    "\n",
    "    def forward(self, data):\n",
    "        x, edge_index = data.x, data.edge_index\n",
    "\n",
    "        x = self.conv1(x, edge_index)\n",
    "        x = F.relu(x)\n",
    "        x = F.dropout(x, training=self.training)\n",
    "        x = self.conv2(x, edge_index)\n",
    "\n",
    "        return F.log_softmax(x, dim=1)"
   ]
  },
  {
   "cell_type": "code",
   "execution_count": 43,
   "metadata": {},
   "outputs": [],
   "source": [
    "# 训练\n",
    "device = torch.device('cuda' if torch.cuda.is_available() else 'cpu')\n",
    "model = Net().to(device)\n",
    "data = dataset[0].to(device)\n",
    "optimizer = torch.optim.Adam(model.parameters(), lr=0.01, weight_decay=5e-4)\n",
    "\n",
    "model.train()\n",
    "for epoch in range(200):\n",
    "    optimizer.zero_grad()\n",
    "    out = model(data)\n",
    "    loss = F.nll_loss(out[data.train_mask], data.y[data.train_mask])\n",
    "    loss.backward()\n",
    "    optimizer.step()"
   ]
  },
  {
   "cell_type": "code",
   "execution_count": 44,
   "metadata": {},
   "outputs": [
    {
     "name": "stdout",
     "output_type": "stream",
     "text": [
      "Accuracy: 0.7970\n"
     ]
    }
   ],
   "source": [
    "# 测试\n",
    "model.eval()\n",
    "_, pred = model(data).max(dim=1)\n",
    "correct = float (pred[data.test_mask].eq(data.y[data.test_mask]).sum().item())\n",
    "acc = correct / data.test_mask.sum().item()\n",
    "print('Accuracy: {:.4f}'.format(acc))"
   ]
  }
 ],
 "metadata": {
  "kernelspec": {
   "display_name": "Python 3",
   "language": "python",
   "name": "python3"
  },
  "language_info": {
   "codemirror_mode": {
    "name": "ipython",
    "version": 3
   },
   "file_extension": ".py",
   "mimetype": "text/x-python",
   "name": "python",
   "nbconvert_exporter": "python",
   "pygments_lexer": "ipython3",
   "version": "3.7.3"
  }
 },
 "nbformat": 4,
 "nbformat_minor": 4
}
