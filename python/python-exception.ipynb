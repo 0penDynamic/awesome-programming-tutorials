{
 "cells": [
  {
   "cell_type": "markdown",
   "metadata": {},
   "source": [
    "# Python 中的异常处理\n",
    "\n",
    "最近学习 `Scala` 的异常处理模块时 [Scala 模式匹配与异常处理](https://dreamhomes.top/707.html)，发现自己对于 `Python` 中的异常处理地非常不好并且进行 `code review` 时代码体验非常差，因此本文简单介绍下 Python 中的异常处理以及如何扩展其异常处理模块！"
   ]
  },
  {
   "cell_type": "markdown",
   "metadata": {},
   "source": [
    "## 背景\n",
    "为什么需要进行异常处理呢？例如解析器去执行程序并检测到了一个错误时，触发异常，异常触发后且没被处理的情况下，程序就在当前异常处终止，后面的代码不会运行，那么就这样崩溃的软件必然带给用户糟糕的体验。所以必须提供一种异常处理机制来增强你程序的健壮性与容错性。\n",
    "\n",
    "python 详细的异常处理情况可以参考教程：[https://www.runoob.com/python/python-exceptions.html](https://www.runoob.com/python/python-exceptions.html)\n",
    "\n",
    "首先引入python中的常用操作作为示例来了解 python 中的异常，例如除法运算和文件读取操作，如下所示："
   ]
  },
  {
   "cell_type": "code",
   "execution_count": null,
   "metadata": {},
   "outputs": [],
   "source": [
    "def example(num1, num2, path):\n",
    "    result = num1 / num2\n",
    "    with open(path, 'r') as file:\n",
    "        file.read()"
   ]
  },
  {
   "cell_type": "markdown",
   "metadata": {},
   "source": [
    "上述代码定义的函数 `example` 中包含三个参数：`num1`,`num2`,`path`，函数内首先执行除法运算再执行文件读操作！如果没有发生异常时上述代码可以正确执行，但正常情况下都需要对操作可以发生的异常进行判断并对抛出的异常进行处理，这样才能增加代码的健壮性！\n",
    "\n",
    "如果不添加异常处理模块，以上述函数 `example` 为例直接添加异常测试，那么可能出现以下异常情况："
   ]
  },
  {
   "cell_type": "code",
   "execution_count": 2,
   "metadata": {},
   "outputs": [
    {
     "ename": "ZeroDivisionError",
     "evalue": "division by zero",
     "output_type": "error",
     "traceback": [
      "\u001b[1;31m---------------------------------------------------------------------------\u001b[0m",
      "\u001b[1;31mZeroDivisionError\u001b[0m                         Traceback (most recent call last)",
      "\u001b[1;32m<ipython-input-2-fcf03ade5770>\u001b[0m in \u001b[0;36m<module>\u001b[1;34m\u001b[0m\n\u001b[0;32m      1\u001b[0m \u001b[1;31m# 除数为0那么会抛出 ZeroDivisionError 异常\u001b[0m\u001b[1;33m\u001b[0m\u001b[1;33m\u001b[0m\u001b[1;33m\u001b[0m\u001b[0m\n\u001b[1;32m----> 2\u001b[1;33m \u001b[0mexample\u001b[0m\u001b[1;33m(\u001b[0m\u001b[1;36m1\u001b[0m\u001b[1;33m,\u001b[0m \u001b[1;36m0\u001b[0m\u001b[1;33m,\u001b[0m \u001b[1;34m'test.txt'\u001b[0m\u001b[1;33m)\u001b[0m\u001b[1;33m\u001b[0m\u001b[1;33m\u001b[0m\u001b[0m\n\u001b[0m",
      "\u001b[1;32m<ipython-input-1-7f29291a2290>\u001b[0m in \u001b[0;36mexample\u001b[1;34m(num1, num2, path)\u001b[0m\n\u001b[0;32m      1\u001b[0m \u001b[1;32mdef\u001b[0m \u001b[0mexample\u001b[0m\u001b[1;33m(\u001b[0m\u001b[0mnum1\u001b[0m\u001b[1;33m,\u001b[0m \u001b[0mnum2\u001b[0m\u001b[1;33m,\u001b[0m \u001b[0mpath\u001b[0m\u001b[1;33m)\u001b[0m\u001b[1;33m:\u001b[0m\u001b[1;33m\u001b[0m\u001b[1;33m\u001b[0m\u001b[0m\n\u001b[1;32m----> 2\u001b[1;33m     \u001b[0mresult\u001b[0m \u001b[1;33m=\u001b[0m \u001b[0mnum1\u001b[0m \u001b[1;33m/\u001b[0m \u001b[0mnum2\u001b[0m\u001b[1;33m\u001b[0m\u001b[1;33m\u001b[0m\u001b[0m\n\u001b[0m\u001b[0;32m      3\u001b[0m     \u001b[1;32mwith\u001b[0m \u001b[0mopen\u001b[0m\u001b[1;33m(\u001b[0m\u001b[0mpath\u001b[0m\u001b[1;33m,\u001b[0m \u001b[1;34m'r'\u001b[0m\u001b[1;33m)\u001b[0m \u001b[1;32mas\u001b[0m \u001b[0mfile\u001b[0m\u001b[1;33m:\u001b[0m\u001b[1;33m\u001b[0m\u001b[1;33m\u001b[0m\u001b[0m\n\u001b[0;32m      4\u001b[0m         \u001b[0mfile\u001b[0m\u001b[1;33m.\u001b[0m\u001b[0mread\u001b[0m\u001b[1;33m(\u001b[0m\u001b[1;33m)\u001b[0m\u001b[1;33m\u001b[0m\u001b[1;33m\u001b[0m\u001b[0m\n",
      "\u001b[1;31mZeroDivisionError\u001b[0m: division by zero"
     ]
    }
   ],
   "source": [
    "# 除数为0那么会抛出 ZeroDivisionError 异常\n",
    "example(1, 0, 'test.txt')"
   ]
  },
  {
   "cell_type": "code",
   "execution_count": 3,
   "metadata": {},
   "outputs": [
    {
     "ename": "TypeError",
     "evalue": "unsupported operand type(s) for /: 'int' and 'str'",
     "output_type": "error",
     "traceback": [
      "\u001b[1;31m---------------------------------------------------------------------------\u001b[0m",
      "\u001b[1;31mTypeError\u001b[0m                                 Traceback (most recent call last)",
      "\u001b[1;32m<ipython-input-3-12485c8f4513>\u001b[0m in \u001b[0;36m<module>\u001b[1;34m\u001b[0m\n\u001b[0;32m      1\u001b[0m \u001b[1;31m# 除法运算操作数的类型不为数字时那么会抛出 TypeError 异常\u001b[0m\u001b[1;33m\u001b[0m\u001b[1;33m\u001b[0m\u001b[1;33m\u001b[0m\u001b[0m\n\u001b[1;32m----> 2\u001b[1;33m \u001b[0mexample\u001b[0m\u001b[1;33m(\u001b[0m\u001b[1;36m1\u001b[0m\u001b[1;33m,\u001b[0m \u001b[1;34m'a'\u001b[0m\u001b[1;33m,\u001b[0m \u001b[1;34m'test.txt'\u001b[0m\u001b[1;33m)\u001b[0m\u001b[1;33m\u001b[0m\u001b[1;33m\u001b[0m\u001b[0m\n\u001b[0m",
      "\u001b[1;32m<ipython-input-1-7f29291a2290>\u001b[0m in \u001b[0;36mexample\u001b[1;34m(num1, num2, path)\u001b[0m\n\u001b[0;32m      1\u001b[0m \u001b[1;32mdef\u001b[0m \u001b[0mexample\u001b[0m\u001b[1;33m(\u001b[0m\u001b[0mnum1\u001b[0m\u001b[1;33m,\u001b[0m \u001b[0mnum2\u001b[0m\u001b[1;33m,\u001b[0m \u001b[0mpath\u001b[0m\u001b[1;33m)\u001b[0m\u001b[1;33m:\u001b[0m\u001b[1;33m\u001b[0m\u001b[1;33m\u001b[0m\u001b[0m\n\u001b[1;32m----> 2\u001b[1;33m     \u001b[0mresult\u001b[0m \u001b[1;33m=\u001b[0m \u001b[0mnum1\u001b[0m \u001b[1;33m/\u001b[0m \u001b[0mnum2\u001b[0m\u001b[1;33m\u001b[0m\u001b[1;33m\u001b[0m\u001b[0m\n\u001b[0m\u001b[0;32m      3\u001b[0m     \u001b[1;32mwith\u001b[0m \u001b[0mopen\u001b[0m\u001b[1;33m(\u001b[0m\u001b[0mpath\u001b[0m\u001b[1;33m,\u001b[0m \u001b[1;34m'r'\u001b[0m\u001b[1;33m)\u001b[0m \u001b[1;32mas\u001b[0m \u001b[0mfile\u001b[0m\u001b[1;33m:\u001b[0m\u001b[1;33m\u001b[0m\u001b[1;33m\u001b[0m\u001b[0m\n\u001b[0;32m      4\u001b[0m         \u001b[0mfile\u001b[0m\u001b[1;33m.\u001b[0m\u001b[0mread\u001b[0m\u001b[1;33m(\u001b[0m\u001b[1;33m)\u001b[0m\u001b[1;33m\u001b[0m\u001b[1;33m\u001b[0m\u001b[0m\n",
      "\u001b[1;31mTypeError\u001b[0m: unsupported operand type(s) for /: 'int' and 'str'"
     ]
    }
   ],
   "source": [
    "# 除法运算操作数的类型不为数字时那么会抛出 TypeError 异常\n",
    "example(1, 'a', 'test.txt')"
   ]
  },
  {
   "cell_type": "code",
   "execution_count": 4,
   "metadata": {},
   "outputs": [
    {
     "ename": "FileNotFoundError",
     "evalue": "[Errno 2] No such file or directory: 'test.txt'",
     "output_type": "error",
     "traceback": [
      "\u001b[1;31m---------------------------------------------------------------------------\u001b[0m",
      "\u001b[1;31mFileNotFoundError\u001b[0m                         Traceback (most recent call last)",
      "\u001b[1;32m<ipython-input-4-84ce3176b749>\u001b[0m in \u001b[0;36m<module>\u001b[1;34m\u001b[0m\n\u001b[0;32m      1\u001b[0m \u001b[1;31m# 读文件时如果当前路径下不存在该文件则会抛出 FileNotFoundError 异常\u001b[0m\u001b[1;33m\u001b[0m\u001b[1;33m\u001b[0m\u001b[1;33m\u001b[0m\u001b[0m\n\u001b[1;32m----> 2\u001b[1;33m \u001b[0mexample\u001b[0m\u001b[1;33m(\u001b[0m\u001b[1;36m1\u001b[0m\u001b[1;33m,\u001b[0m \u001b[1;36m2\u001b[0m\u001b[1;33m,\u001b[0m \u001b[1;34m'test.txt'\u001b[0m\u001b[1;33m)\u001b[0m\u001b[1;33m\u001b[0m\u001b[1;33m\u001b[0m\u001b[0m\n\u001b[0m",
      "\u001b[1;32m<ipython-input-1-7f29291a2290>\u001b[0m in \u001b[0;36mexample\u001b[1;34m(num1, num2, path)\u001b[0m\n\u001b[0;32m      1\u001b[0m \u001b[1;32mdef\u001b[0m \u001b[0mexample\u001b[0m\u001b[1;33m(\u001b[0m\u001b[0mnum1\u001b[0m\u001b[1;33m,\u001b[0m \u001b[0mnum2\u001b[0m\u001b[1;33m,\u001b[0m \u001b[0mpath\u001b[0m\u001b[1;33m)\u001b[0m\u001b[1;33m:\u001b[0m\u001b[1;33m\u001b[0m\u001b[1;33m\u001b[0m\u001b[0m\n\u001b[0;32m      2\u001b[0m     \u001b[0mresult\u001b[0m \u001b[1;33m=\u001b[0m \u001b[0mnum1\u001b[0m \u001b[1;33m/\u001b[0m \u001b[0mnum2\u001b[0m\u001b[1;33m\u001b[0m\u001b[1;33m\u001b[0m\u001b[0m\n\u001b[1;32m----> 3\u001b[1;33m     \u001b[1;32mwith\u001b[0m \u001b[0mopen\u001b[0m\u001b[1;33m(\u001b[0m\u001b[0mpath\u001b[0m\u001b[1;33m,\u001b[0m \u001b[1;34m'r'\u001b[0m\u001b[1;33m)\u001b[0m \u001b[1;32mas\u001b[0m \u001b[0mfile\u001b[0m\u001b[1;33m:\u001b[0m\u001b[1;33m\u001b[0m\u001b[1;33m\u001b[0m\u001b[0m\n\u001b[0m\u001b[0;32m      4\u001b[0m         \u001b[0mfile\u001b[0m\u001b[1;33m.\u001b[0m\u001b[0mread\u001b[0m\u001b[1;33m(\u001b[0m\u001b[1;33m)\u001b[0m\u001b[1;33m\u001b[0m\u001b[1;33m\u001b[0m\u001b[0m\n",
      "\u001b[1;31mFileNotFoundError\u001b[0m: [Errno 2] No such file or directory: 'test.txt'"
     ]
    }
   ],
   "source": [
    "# 读文件时如果当前路径下不存在该文件则会抛出 FileNotFoundError 异常\n",
    "example(1, 2, 'test.txt')"
   ]
  },
  {
   "cell_type": "markdown",
   "metadata": {},
   "source": [
    "如果不进行异常处理执行上述定义的 `example` 函数就可能抛出这么多异常并且在终端输出这么多错误信息，作为一个处女座的程序员简直是难以忍受啊！\n",
    "\n",
    "因此，我们在函数中的运算操作中加上异常处理判断："
   ]
  },
  {
   "cell_type": "code",
   "execution_count": 5,
   "metadata": {},
   "outputs": [],
   "source": [
    "def example(num1, num2, path):\n",
    "    try:\n",
    "        result = num1 / num2\n",
    "        with open(path, 'r') as file:\n",
    "            file.read()\n",
    "    except ZeroDivisionError:\n",
    "        print(\"num2 cannot be zero!\")\n",
    "    except TypeError:\n",
    "        print(\"num1 and num2 should be number!\")\n",
    "    except FileNotFoundError:\n",
    "        print(f\"file {path} not found!\")\n",
    "    except Exception as e:\n",
    "        print(f'exception information: {e.args}')"
   ]
  },
  {
   "cell_type": "markdown",
   "metadata": {},
   "source": [
    "在函数中添加异常处理语句之后，再次测试异常情况："
   ]
  },
  {
   "cell_type": "code",
   "execution_count": 6,
   "metadata": {},
   "outputs": [
    {
     "name": "stdout",
     "output_type": "stream",
     "text": [
      "num2 cannot be zero!\n",
      "num1 and num2 should be number!\n",
      "file test.txt not found!\n"
     ]
    }
   ],
   "source": [
    "example(1, 0, 'test.txt')\n",
    "example(1, 'a', 'test.txt')\n",
    "example(1, 2, 'test.txt')"
   ]
  },
  {
   "cell_type": "markdown",
   "metadata": {},
   "source": [
    "终端输出这些异常信息就看起来舒服多了啊，而且异常抛出时后续的语句同样执行！"
   ]
  },
  {
   "cell_type": "markdown",
   "metadata": {},
   "source": [
    "但是，上述异常处理语句同样存在问题：\n",
    "- 代码语句复杂，异常处理语句比操作运算都多！\n",
    "- 如果代码中包含相同的异常处理情况而`try...except`语句不可复用！\n",
    "- 逻辑代码模块与异常处理模块在同一区域略显复杂，如果在单独一个模块中专门用来异常处理？"
   ]
  },
  {
   "cell_type": "markdown",
   "metadata": {},
   "source": [
    "针对上述两个问题，可以使用 python 第三方库 `merry` 来解决！"
   ]
  },
  {
   "cell_type": "markdown",
   "metadata": {},
   "source": [
    "## Merry 异常处理库"
   ]
  },
  {
   "cell_type": "markdown",
   "metadata": {},
   "source": [
    "Merry 这第三方异常处理库的目的是将异常处理与业务逻辑分离，通过装饰器来实现异常检查和异常处理！\n",
    "\n",
    "Merry 安装：`pip install merry`"
   ]
  },
  {
   "cell_type": "markdown",
   "metadata": {},
   "source": [
    "在安装merry库之后，上述定义的 `example` 函数中异常处理可以重写为以下形式："
   ]
  },
  {
   "cell_type": "code",
   "execution_count": 7,
   "metadata": {},
   "outputs": [],
   "source": [
    "from merry import Merry\n",
    "\n",
    "merry = Merry()\n",
    "merry.logger.disabled = True\n",
    "\n",
    "# _try 装饰器监听异常\n",
    "@merry._try\n",
    "def example(num1, num2, path):\n",
    "    result = num1 / num2\n",
    "    with open(path, 'r') as file:\n",
    "        file.read()\n",
    "\n",
    "# _except 异常处理\n",
    "@merry._except(ZeroDivisionError)\n",
    "def process_zero_division_error(e):\n",
    "    print('zero_division_error', e)\n",
    "\n",
    "@merry._except(TypeError)\n",
    "def process_type_error(e):\n",
    "    print(\"type_error\", e)\n",
    "\n",
    "@merry._except(FileNotFoundError)\n",
    "def process_file_not_found_error(e):\n",
    "    print('file_not_found_error', e)\n",
    "\n",
    "@merry._except(Exception)\n",
    "def process_exception(e):\n",
    "    print('exception', type(e), e)"
   ]
  },
  {
   "cell_type": "markdown",
   "metadata": {},
   "source": [
    "上述代码中通过 Merry 库的`_try` 和 `_except` 装饰器实现了异常的监听和处理，对于每一种异常情况都有其对应的处理方法，这样代码格式就好看多了啊！而且将异常处理方法和逻辑代码分离开不就可以重用了！"
   ]
  },
  {
   "cell_type": "markdown",
   "metadata": {},
   "source": [
    "测试下异常处理的效果："
   ]
  },
  {
   "cell_type": "code",
   "execution_count": 8,
   "metadata": {},
   "outputs": [
    {
     "name": "stdout",
     "output_type": "stream",
     "text": [
      "zero_division_error division by zero\n",
      "type_error unsupported operand type(s) for /: 'int' and 'str'\n",
      "file_not_found_error [Errno 2] No such file or directory: 'test.txt'\n"
     ]
    }
   ],
   "source": [
    "example(1, 0, 'test.txt')\n",
    "example(1, 'a', 'test.txt')\n",
    "example(1, 2, 'test.txt')"
   ]
  },
  {
   "cell_type": "markdown",
   "metadata": {},
   "source": [
    "这样不就舒服多了啊，而且还可以对异常函数进行封装！\n",
    "\n",
    "当然本文仅介绍了简单的用法 更多用法可以参考源码链接哦！[传送门~](https://github.com/miguelgrinberg/merry)"
   ]
  }
 ],
 "metadata": {
  "kernelspec": {
   "display_name": "Python 3",
   "language": "python",
   "name": "python3"
  },
  "language_info": {
   "codemirror_mode": {
    "name": "ipython",
    "version": 3
   },
   "file_extension": ".py",
   "mimetype": "text/x-python",
   "name": "python",
   "nbconvert_exporter": "python",
   "pygments_lexer": "ipython3",
   "version": "3.7.3"
  }
 },
 "nbformat": 4,
 "nbformat_minor": 4
}
