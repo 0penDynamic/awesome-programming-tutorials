{
 "cells": [
  {
   "cell_type": "markdown",
   "metadata": {},
   "source": [
    "## Python 代码优化技巧（二）"
   ]
  },
  {
   "cell_type": "markdown",
   "metadata": {},
   "source": [
    "### 避免全局变量\n",
    "\n",
    "**在函数中编写代码而不要将其写为全局变量。** 由于全局变量和局部变量实现方式不同，定义在全局范围内的代码运行速度会比定义在函数中的慢不少。通过将脚本语句放入到函数中，通常可带来 15% - 30% 的速度提升。"
   ]
  },
  {
   "cell_type": "code",
   "execution_count": 1,
   "metadata": {},
   "outputs": [],
   "source": [
    "# 不推荐写法\n",
    "import math\n",
    "\n",
    "\n",
    "size = 10000\n",
    "for x in range(size):\n",
    "    for y in range(size):\n",
    "        z = math.sqrt(x) + math.sqrt(y)"
   ]
  },
  {
   "cell_type": "code",
   "execution_count": 2,
   "metadata": {},
   "outputs": [],
   "source": [
    "# 推荐写法\n",
    "import math\n",
    "\n",
    "def main():  # 定义到函数中，以减少全部变量使用\n",
    "    size = 10000\n",
    "    for x in range(size):\n",
    "        for y in range(size):\n",
    "            z = math.sqrt(x) + math.sqrt(y)\n",
    "\n",
    "main()"
   ]
  },
  {
   "cell_type": "markdown",
   "metadata": {},
   "source": [
    "### 避免 `.`"
   ]
  },
  {
   "cell_type": "markdown",
   "metadata": {},
   "source": [
    "#### 避免模块和函数属性访问\n",
    "每次使用`.`（属性访问操作符时）会触发特定的方法，如`__getattribute__()`和`__getattr__()`，这些方法会进行字典操作，因此会带来额外的时间开销。通过`from import`语句，可以消除属性访问。"
   ]
  },
  {
   "cell_type": "code",
   "execution_count": null,
   "metadata": {},
   "outputs": [],
   "source": [
    "# 不推荐写法\n",
    "import math\n",
    "\n",
    "def computeSqrt(size: int):\n",
    "    result = []\n",
    "    for i in range(size):\n",
    "        result.append(math.sqrt(i))\n",
    "    return result\n",
    "\n",
    "def main():\n",
    "    size = 10000\n",
    "    for _ in range(size):\n",
    "        result = computeSqrt(size)\n",
    "\n",
    "main()"
   ]
  },
  {
   "cell_type": "code",
   "execution_count": null,
   "metadata": {},
   "outputs": [],
   "source": [
    "# 推荐写法，第一次优化 . 模块属性访问\n",
    "from math import sqrt\n",
    "\n",
    "def computeSqrt(size: int):\n",
    "    result = []\n",
    "    for i in range(size):\n",
    "        result.append(sqrt(i))  # 避免math.sqrt的使用\n",
    "    return result\n",
    "\n",
    "def main():\n",
    "    size = 10000\n",
    "    for _ in range(size):\n",
    "        result = computeSqrt(size)\n",
    "\n",
    "main()"
   ]
  },
  {
   "cell_type": "code",
   "execution_count": null,
   "metadata": {},
   "outputs": [],
   "source": [
    "# 推荐写法，第二次优化局部变量 sqrt，局部变量访问比全局变量快。\n",
    "import math\n",
    "\n",
    "def computeSqrt(size: int):\n",
    "    result = []\n",
    "    sqrt = math.sqrt  # 赋值给局部变量\n",
    "    for i in range(size):\n",
    "        result.append(sqrt(i))  # 避免math.sqrt的使用\n",
    "    return result\n",
    "\n",
    "def main():\n",
    "    size = 10000\n",
    "    for _ in range(size):\n",
    "        result = computeSqrt(size)\n",
    "\n",
    "main()"
   ]
  },
  {
   "cell_type": "code",
   "execution_count": null,
   "metadata": {},
   "outputs": [],
   "source": [
    "# 推荐写法， 第三次优化函数属性 list.append() 方法\n",
    "import math\n",
    "\n",
    "def computeSqrt(size: int):\n",
    "    result = []\n",
    "    append = result.append\n",
    "    sqrt = math.sqrt    # 赋值给局部变量\n",
    "    for i in range(size):\n",
    "        append(sqrt(i))  # 避免 result.append 和 math.sqrt 的使用\n",
    "    return result\n",
    "\n",
    "def main():\n",
    "    size = 10000\n",
    "    for _ in range(size):\n",
    "        result = computeSqrt(size)\n",
    "\n",
    "main()"
   ]
  },
  {
   "cell_type": "markdown",
   "metadata": {},
   "source": [
    "#### 避免访问类内属性\n",
    "避免 `.` 的原则也适用于类内属性，访问`self._value`的速度会比访问一个局部变量更慢一些。通过将需要频繁访问的类内属性赋值给一个局部变量，可以提升代码运行速度。"
   ]
  },
  {
   "cell_type": "code",
   "execution_count": 3,
   "metadata": {},
   "outputs": [],
   "source": [
    "# 不推荐写法\n",
    "import math\n",
    "from typing import List\n",
    "\n",
    "class DemoClass:\n",
    "    def __init__(self, value: int):\n",
    "        self._value = value\n",
    "    \n",
    "    def computeSqrt(self, size: int) -> List[float]:\n",
    "        result = []\n",
    "        append = result.append\n",
    "        sqrt = math.sqrt\n",
    "        for _ in range(size):\n",
    "            append(sqrt(self._value))\n",
    "        return result\n",
    "\n",
    "def main():\n",
    "    size = 10000\n",
    "    for _ in range(size):\n",
    "        demo_instance = DemoClass(size)\n",
    "        result = demo_instance.computeSqrt(size)\n",
    "\n",
    "main()"
   ]
  },
  {
   "cell_type": "code",
   "execution_count": null,
   "metadata": {},
   "outputs": [],
   "source": [
    "# 推荐写法，将self._value 赋值给局部变量\n",
    "import math\n",
    "from typing import List\n",
    "\n",
    "class DemoClass:\n",
    "    def __init__(self, value: int):\n",
    "        self._value = value\n",
    "    \n",
    "    def computeSqrt(self, size: int) -> List[float]:\n",
    "        result = []\n",
    "        append = result.append\n",
    "        sqrt = math.sqrt\n",
    "        value = self._value\n",
    "        for _ in range(size):\n",
    "            append(sqrt(value))  # 避免 self._value 的使用\n",
    "        return result\n",
    "\n",
    "def main():\n",
    "    size = 10000\n",
    "    for _ in range(size):\n",
    "        demo_instance = DemoClass(size)\n",
    "        demo_instance.computeSqrt(size)\n",
    "\n",
    "main()"
   ]
  },
  {
   "cell_type": "markdown",
   "metadata": {},
   "source": [
    "### 避免不必要的抽象\n",
    "任何时候当你使用额外的处理层（比如装饰器、属性访问、描述器）去包装代码时，都会让代码变慢。大部分情况下，需要重新进行审视使用属性访问器的定义是否有必要，使用`getter/setter`函数对属性进行访问通常是 C/C++ 程序员遗留下来的代码风格。如果真的没有必要，就使用简单属性。"
   ]
  },
  {
   "cell_type": "code",
   "execution_count": null,
   "metadata": {},
   "outputs": [],
   "source": [
    "# 不推荐写法。\n",
    "class DemoClass:\n",
    "    def __init__(self, value: int):\n",
    "        self.value = value\n",
    "\n",
    "    @property\n",
    "    def value(self) -> int:\n",
    "        return self._value\n",
    "\n",
    "    @value.setter\n",
    "    def value(self, x: int):\n",
    "        self._value = x\n",
    "\n",
    "def main():\n",
    "    size = 1000000\n",
    "    for i in range(size):\n",
    "        demo_instance = DemoClass(size)\n",
    "        value = demo_instance.value\n",
    "        demo_instance.value = i\n",
    "\n",
    "main()"
   ]
  },
  {
   "cell_type": "markdown",
   "metadata": {},
   "source": [
    "### 避免数据复制\n",
    "#### 避免无意义的数据复制\n",
    "#### 交换值时不使用中间变量\n",
    "```python\n",
    "a, b = b, a\n",
    "```"
   ]
  },
  {
   "cell_type": "markdown",
   "metadata": {},
   "source": [
    "#### 字符串拼接使用`join`而不是`+`\n",
    "当使用`a + b`拼接字符串时，由于 Python 中字符串是不可变对象，其会申请一块内存空间，将`a`和`b`分别复制到该新申请的内存空间中。因此，如果要拼接 n 个字符串，会产生 n-1 个中间结果，每产生一个中间结果都需要申请和复制一次内存，严重影响运行效率。而使用`join()`拼接字符串时，会首先计算出需要申请的总的内存空间，然后一次性地申请所需内存，并将每个字符串元素复制到该内存中去。"
   ]
  },
  {
   "cell_type": "code",
   "execution_count": null,
   "metadata": {},
   "outputs": [],
   "source": [
    "# 不推荐写法\n",
    "import string\n",
    "from typing import List\n",
    "\n",
    "def concatString(string_list: List[str]) -> str:\n",
    "    result = ''\n",
    "    for str_i in string_list:\n",
    "        result += str_i\n",
    "    return result\n",
    "\n",
    "def main():\n",
    "    string_list = list(string.ascii_letters * 100)\n",
    "    for _ in range(10000):\n",
    "        result = concatString(string_list)\n",
    "\n",
    "main()"
   ]
  },
  {
   "cell_type": "code",
   "execution_count": null,
   "metadata": {},
   "outputs": [],
   "source": [
    "# 推荐写法\n",
    "import string\n",
    "from typing import List\n",
    "\n",
    "def concatString(string_list: List[str]) -> str:\n",
    "    return ''.join(string_list)  # 使用 join 而不是 +\n",
    "\n",
    "def main():\n",
    "    string_list = list(string.ascii_letters * 100)\n",
    "    for _ in range(10000):\n",
    "        result = concatString(string_list)\n",
    "\n",
    "main()"
   ]
  },
  {
   "cell_type": "markdown",
   "metadata": {},
   "source": [
    "### 利用 `if` 条件的短路特性\n",
    "`if` 条件的短路特性是指对`if a and b`这样的语句， 当`a`为`False`时将直接返回，不再计算`b`；对于`if a or b`这样的语句，当`a`为`True`时将直接返回，不再计算`b`。因此， 为了节约运行时间，对于`or`语句，应该将值为`True`可能性比较高的变量写在`or`前，而`and`应该推后。"
   ]
  },
  {
   "cell_type": "markdown",
   "metadata": {},
   "source": [
    "### 循环优化\n",
    "- 利用`for`代替`while`；这是由于Python中`for`循环比`while`循环更快；\n",
    "- 利用隐式`for`循环代替显式`for`循环；例如隐式`sum(range(10000))`；\n",
    "- 减少内层循环计算；"
   ]
  },
  {
   "cell_type": "markdown",
   "metadata": {},
   "source": [
    "### 使用`numba.jit`优化\n",
    "参考另一篇文章：[Python 代码优化技巧（一）](https://dreamhomes.github.io/posts/202005141054.html)"
   ]
  },
  {
   "cell_type": "markdown",
   "metadata": {},
   "source": [
    "### 使用合适的数据结构\n",
    "Python 内置的数据结构如`str`, `tuple`, `list`, `set`, `dict`底层都是 C 实现的，速度非常快，自己实现新的数据结构想在性能上达到内置的速度几乎是不可能的。"
   ]
  }
 ],
 "metadata": {
  "kernelspec": {
   "display_name": "Python 3",
   "language": "python",
   "name": "python3"
  },
  "language_info": {
   "codemirror_mode": {
    "name": "ipython",
    "version": 3
   },
   "file_extension": ".py",
   "mimetype": "text/x-python",
   "name": "python",
   "nbconvert_exporter": "python",
   "pygments_lexer": "ipython3",
   "version": "3.7.3"
  }
 },
 "nbformat": 4,
 "nbformat_minor": 4
}
